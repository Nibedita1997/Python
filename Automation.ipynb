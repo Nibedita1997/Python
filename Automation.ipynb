{
 "cells": [
  {
   "cell_type": "code",
   "execution_count": 2,
   "id": "99615bac",
   "metadata": {},
   "outputs": [],
   "source": [
    "class Staff:\n",
    "    def _init_(self, name):\n",
    "        self.name = name\n",
    "        self.inbox = []\n",
    "        \n",
    "    def receive_message(self, message):\n",
    "        self.inbox.append(message)\n",
    "        \n",
    "    def send_message(self, recipient, message):\n",
    "        recipient.receive_message(message)\n",
    "\n",
    "def main():\n",
    "    # Create staff members\n",
    "    Ram = Staff(\"Ram\")\n",
    "    Shaym = Staff(\"Shaym\")\n",
    "    Jodu = Staff(\"Jodu\")\n",
    "\n",
    "    # Send and receive messages\n",
    "    Ram.send_message(Shaym, \"Hello Shaym, could you please review the report?\")\n",
    "    Shaym.send_message(Jodu, \"Sure, I'll take a look at it.\")\n",
    "    Jodu.send_message(Ram, \"Thanks for sharing the report.\")\n",
    "\n",
    "    # Print inbox of each staff member\n",
    "    \n",
    "    for staff_member in [Ram, Shyam, Jodu]:\n",
    "        print(f\"{staff_member.name}'s Inbox:\")\n",
    "        for message in staff_member.inbox:\n",
    "            print(\" -\", message)\n",
    "\n",
    "import xlsxwriter\n",
    "\n",
    "def main():\n",
    "    # Your code here\n",
    "    pass\n",
    "\n",
    "if __name__ == \"__main__\":\n",
    "    main()"
   ]
  },
  {
   "cell_type": "code",
   "execution_count": null,
   "id": "60b1228c",
   "metadata": {},
   "outputs": [],
   "source": []
  }
 ],
 "metadata": {
  "kernelspec": {
   "display_name": "Python 3 (ipykernel)",
   "language": "python",
   "name": "python3"
  },
  "language_info": {
   "codemirror_mode": {
    "name": "ipython",
    "version": 3
   },
   "file_extension": ".py",
   "mimetype": "text/x-python",
   "name": "python",
   "nbconvert_exporter": "python",
   "pygments_lexer": "ipython3",
   "version": "3.9.13"
  }
 },
 "nbformat": 4,
 "nbformat_minor": 5
}
