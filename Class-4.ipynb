{
 "cells": [
  {
   "cell_type": "code",
   "execution_count": null,
   "id": "05082d32",
   "metadata": {},
   "outputs": [],
   "source": [
    "If divisible by 4, but not divisible by 100 if divisible by 400 then must be divisible by 100"
   ]
  },
  {
   "cell_type": "code",
   "execution_count": 4,
   "id": "07397344",
   "metadata": {},
   "outputs": [
    {
     "name": "stdout",
     "output_type": "stream",
     "text": [
      "enter year: 2000\n",
      "2000 is a leap year\n"
     ]
    }
   ],
   "source": [
    "y = int(input(\"enter year: \"))\n",
    "if y%4==0 and y%100!=0 or y%400==0:\n",
    "    print(y,\"is a leap year\")\n",
    "else:\n",
    "    print(y,\"is not a leap year\")"
   ]
  },
  {
   "cell_type": "code",
   "execution_count": null,
   "id": "0a9d14d7",
   "metadata": {},
   "outputs": [],
   "source": [
    "no of year,month,days,hour,10year,5months,6days"
   ]
  },
  {
   "cell_type": "code",
   "execution_count": 5,
   "id": "95f05205",
   "metadata": {},
   "outputs": [
    {
     "name": "stdout",
     "output_type": "stream",
     "text": [
      "eneter year: 5\n",
      "enter month: 12\n",
      "enter days: 6\n",
      "you have lived 52584 hours\n"
     ]
    }
   ],
   "source": [
    "y = int(input(\"eneter year: \"))\n",
    "m = int(input(\"enter month: \"))\n",
    "d = int(input(\"enter days: \"))\n",
    "h1 = y*365*24\n",
    "h2 = m*30*24\n",
    "h3 = d*24\n",
    "h = h1+h2+h3\n",
    "print(\"you have lived\",h,\"hours\")"
   ]
  },
  {
   "cell_type": "code",
   "execution_count": 8,
   "id": "97cf0cc5",
   "metadata": {},
   "outputs": [
    {
     "name": "stdout",
     "output_type": "stream",
     "text": [
      "hello world\n",
      "hello world\n",
      "hello world\n",
      "hello world\n",
      "hello world\n"
     ]
    }
   ],
   "source": [
    "for i in range(1,6,1):\n",
    "    print(\"hello world\")"
   ]
  },
  {
   "cell_type": "code",
   "execution_count": 9,
   "id": "7db89e37",
   "metadata": {},
   "outputs": [
    {
     "name": "stdout",
     "output_type": "stream",
     "text": [
      "5\n",
      "3\n",
      "1\n"
     ]
    }
   ],
   "source": [
    "for i in range(5,0,-2):\n",
    "    print(i)"
   ]
  },
  {
   "cell_type": "code",
   "execution_count": 10,
   "id": "34b65c5b",
   "metadata": {},
   "outputs": [
    {
     "name": "stdout",
     "output_type": "stream",
     "text": [
      "-1\n",
      "0\n",
      "1\n",
      "2\n",
      "3\n",
      "4\n",
      "5\n"
     ]
    }
   ],
   "source": [
    "for i in range(-1,6):\n",
    "    print(i)"
   ]
  },
  {
   "cell_type": "code",
   "execution_count": 13,
   "id": "f37d536e",
   "metadata": {},
   "outputs": [
    {
     "name": "stdout",
     "output_type": "stream",
     "text": [
      "enter starting range: 1\n",
      "enter ending range: 10\n",
      "1\n",
      "2\n",
      "3\n",
      "4\n",
      "5\n",
      "6\n",
      "7\n",
      "8\n",
      "9\n",
      "10\n"
     ]
    }
   ],
   "source": [
    "x = int(input(\"enter starting range: \"))\n",
    "y = int(input(\"enter ending range: \"))\n",
    "\n",
    "if x < y:\n",
    "    for i in range(x, y + 1):  # Change x+1 to y+1 to include the ending range\n",
    "        print(i)\n",
    "elif x > y:\n",
    "    for i in range(x, y - 1, -1):\n",
    "        print(i)\n",
    "else:\n",
    "    print(\"initial and final value is same\")"
   ]
  },
  {
   "cell_type": "code",
   "execution_count": 15,
   "id": "f4b5a392",
   "metadata": {},
   "outputs": [
    {
     "name": "stdout",
     "output_type": "stream",
     "text": [
      "enter starting range: 1\n",
      "enter ending range: 10\n",
      "even number are:  2\n",
      "even number are:  4\n",
      "even number are:  6\n",
      "even number are:  8\n",
      "even number are:  10\n"
     ]
    }
   ],
   "source": [
    "x = int(input(\"enter starting range: \"))\n",
    "y = int(input(\"enter ending range: \"))\n",
    "for i in range(x, y + 1):\n",
    "    if i%2==0:\n",
    "        print(\"even number are: \",i)"
   ]
  },
  {
   "cell_type": "code",
   "execution_count": 17,
   "id": "aceecf62",
   "metadata": {},
   "outputs": [
    {
     "name": "stdout",
     "output_type": "stream",
     "text": [
      "enter initial value: 1\n",
      "enter final value: 6\n",
      "21\n"
     ]
    }
   ],
   "source": [
    "x = int(input(\"enter initial value: \"))\n",
    "y = int(input(\"enter final value: \"))\n",
    "sum=0\n",
    "for i in range(x, y + 1):\n",
    "    sum=sum+i #1 3\n",
    "print(sum)"
   ]
  },
  {
   "cell_type": "code",
   "execution_count": null,
   "id": "ed437311",
   "metadata": {},
   "outputs": [],
   "source": [
    "check a number is perfect or not \n",
    "6=1,2,3,6\n",
    "1+2+3=6"
   ]
  },
  {
   "cell_type": "code",
   "execution_count": 27,
   "id": "641ea96f",
   "metadata": {},
   "outputs": [
    {
     "name": "stdout",
     "output_type": "stream",
     "text": [
      "enter a value: 6\n",
      "6 is a perfect number\n"
     ]
    }
   ],
   "source": [
    "x=int(input(\"enter a value: \"))\n",
    "sum=0\n",
    "for i in range(1,x):\n",
    "    if x%i==0:\n",
    "        sum=sum+i\n",
    "if sum==x:\n",
    "    print(x,\"is a perfect number\")\n",
    "else:\n",
    "    print(x,\"is not a perfect number\")"
   ]
  }
 ],
 "metadata": {
  "kernelspec": {
   "display_name": "Python 3 (ipykernel)",
   "language": "python",
   "name": "python3"
  },
  "language_info": {
   "codemirror_mode": {
    "name": "ipython",
    "version": 3
   },
   "file_extension": ".py",
   "mimetype": "text/x-python",
   "name": "python",
   "nbconvert_exporter": "python",
   "pygments_lexer": "ipython3",
   "version": "3.9.13"
  }
 },
 "nbformat": 4,
 "nbformat_minor": 5
}
