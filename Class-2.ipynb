{
 "cells": [
  {
   "cell_type": "code",
   "execution_count": 1,
   "id": "819fad50",
   "metadata": {},
   "outputs": [
    {
     "name": "stdout",
     "output_type": "stream",
     "text": [
      "Hello World\n"
     ]
    }
   ],
   "source": [
    "print(\"Hello World\")"
   ]
  },
  {
   "cell_type": "code",
   "execution_count": 3,
   "id": "1281ae34",
   "metadata": {},
   "outputs": [
    {
     "name": "stdout",
     "output_type": "stream",
     "text": [
      "5\n"
     ]
    }
   ],
   "source": [
    "x=2\n",
    "y=3\n",
    "z=x+y\n",
    "print(z)"
   ]
  },
  {
   "cell_type": "code",
   "execution_count": 5,
   "id": "75240c02",
   "metadata": {},
   "outputs": [
    {
     "name": "stdout",
     "output_type": "stream",
     "text": [
      "1\n",
      "2\n",
      "343\n"
     ]
    }
   ],
   "source": [
    "x=7\n",
    "y=3\n",
    "a=x%y\n",
    "b=x//y\n",
    "c=x**y\n",
    "print(a)\n",
    "print(b)\n",
    "print(c)"
   ]
  },
  {
   "cell_type": "code",
   "execution_count": 7,
   "id": "69a1a71f",
   "metadata": {},
   "outputs": [
    {
     "name": "stdout",
     "output_type": "stream",
     "text": [
      "the vale of reminder is:  1\n",
      "the vale of reminder is:  2\n",
      "the vale of reminder is:  343\n"
     ]
    }
   ],
   "source": [
    "x=7\n",
    "y=3\n",
    "a=x%y\n",
    "b=x//y\n",
    "c=x**y\n",
    "print(\"the vale of reminder is: \",a)\n",
    "print(\"the vale of reminder is: \",b)\n",
    "print(\"the vale of reminder is: \",c)"
   ]
  },
  {
   "cell_type": "code",
   "execution_count": 8,
   "id": "b5e4af1b",
   "metadata": {},
   "outputs": [
    {
     "name": "stdout",
     "output_type": "stream",
     "text": [
      "after swapping value is: 2 3\n"
     ]
    }
   ],
   "source": [
    "x=3 #2\n",
    "y=2 #3\n",
    "temp=x #3\n",
    "x=y #2\n",
    "y=temp #3\n",
    "print(\"after swapping value is:\",x,y)"
   ]
  },
  {
   "cell_type": "code",
   "execution_count": 9,
   "id": "0728732e",
   "metadata": {},
   "outputs": [
    {
     "name": "stdout",
     "output_type": "stream",
     "text": [
      "after swapping value is: 2 3\n"
     ]
    }
   ],
   "source": [
    "x=3 #2\n",
    "y=2 #3\n",
    "temp=x #3\n",
    "x=x+y #5\n",
    "y=x-y #3\n",
    "x=x-y #2\n",
    "print(\"after swapping value is:\",x,y)"
   ]
  },
  {
   "cell_type": "code",
   "execution_count": null,
   "id": "bfae0211",
   "metadata": {},
   "outputs": [],
   "source": [
    "int=2,3\n",
    "float=2.3,3.4\n",
    "string= \"sum\""
   ]
  },
  {
   "cell_type": "code",
   "execution_count": 10,
   "id": "7213ca7a",
   "metadata": {},
   "outputs": [
    {
     "name": "stdout",
     "output_type": "stream",
     "text": [
      "<class 'int'>\n",
      "<class 'float'>\n"
     ]
    }
   ],
   "source": [
    "x=3\n",
    "y=2.5\n",
    "print(type(x))\n",
    "print(type(y))"
   ]
  },
  {
   "cell_type": "code",
   "execution_count": 11,
   "id": "6829ac5d",
   "metadata": {},
   "outputs": [
    {
     "name": "stdout",
     "output_type": "stream",
     "text": [
      "3.0\n"
     ]
    }
   ],
   "source": [
    "x=3\n",
    "y=2.5\n",
    "print(float(x))"
   ]
  },
  {
   "cell_type": "code",
   "execution_count": 12,
   "id": "c578580f",
   "metadata": {},
   "outputs": [
    {
     "name": "stdout",
     "output_type": "stream",
     "text": [
      "5\n"
     ]
    }
   ],
   "source": [
    "x=\"3\"\n",
    "print(int(x)+2)"
   ]
  },
  {
   "cell_type": "code",
   "execution_count": 13,
   "id": "00c09db7",
   "metadata": {},
   "outputs": [
    {
     "name": "stdout",
     "output_type": "stream",
     "text": [
      "2\n",
      "5\n",
      "7\n"
     ]
    }
   ],
   "source": [
    "x=int(input())\n",
    "y=int(input())\n",
    "z=x+y\n",
    "print(z)"
   ]
  },
  {
   "cell_type": "code",
   "execution_count": 15,
   "id": "27cf85cb",
   "metadata": {},
   "outputs": [
    {
     "name": "stdout",
     "output_type": "stream",
     "text": [
      "enetr 1st number: 2\n",
      "enter 2nd number: 3\n",
      "The value is: 5\n"
     ]
    }
   ],
   "source": [
    "x=int(input(\"enetr 1st number: \"))\n",
    "y=int(input(\"enter 2nd number: \"))\n",
    "z=x+y\n",
    "print(\"The value is:\",z)"
   ]
  },
  {
   "cell_type": "code",
   "execution_count": null,
   "id": "c3b79d14",
   "metadata": {},
   "outputs": [],
   "source": [
    "ask from user length and breath of a rectangle and print area and perimeter of it"
   ]
  },
  {
   "cell_type": "code",
   "execution_count": 4,
   "id": "6fe07506",
   "metadata": {},
   "outputs": [
    {
     "name": "stdout",
     "output_type": "stream",
     "text": [
      "enter length: 2\n",
      "enter length: 3\n",
      "area is a:  6 and perimater is :  10\n"
     ]
    }
   ],
   "source": [
    "x=int(input(\"enter length: \"))\n",
    "y=int(input(\"enter length: \"))\n",
    "a=x*y\n",
    "p=2*(x+y)\n",
    "print(\"area is a: \",a,\"and perimater is : \",p)"
   ]
  }
 ],
 "metadata": {
  "kernelspec": {
   "display_name": "Python 3 (ipykernel)",
   "language": "python",
   "name": "python3"
  },
  "language_info": {
   "codemirror_mode": {
    "name": "ipython",
    "version": 3
   },
   "file_extension": ".py",
   "mimetype": "text/x-python",
   "name": "python",
   "nbconvert_exporter": "python",
   "pygments_lexer": "ipython3",
   "version": "3.9.13"
  }
 },
 "nbformat": 4,
 "nbformat_minor": 5
}
