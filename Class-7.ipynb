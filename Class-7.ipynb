{
 "cells": [
  {
   "cell_type": "code",
   "execution_count": null,
   "id": "5ef64ecb",
   "metadata": {},
   "outputs": [],
   "source": [
    "145 = 1!+4!+5! = 145\n",
    "Strong number"
   ]
  },
  {
   "cell_type": "code",
   "execution_count": null,
   "id": "cdc9ee23",
   "metadata": {},
   "outputs": [],
   "source": [
    "def factorial(n):\n",
    "    if n == 0 or n == 1:\n",
    "        return 1\n",
    "    return n * factorial(n - 1)\n",
    "\n",
    "def is_strong_number(number):\n",
    "    num_str = str(number)\n",
    "    digit_sum = sum(factorial(int(digit)) for digit in num_str)\n",
    "    return digit_sum == number\n",
    "\n",
    "# Get input from the user\n",
    "number = int(input(\"Enter a number: \"))\n",
    "\n",
    "if is_strong_number(number):\n",
    "    print(f\"{number} is a Strong number.\")\n",
    "else:\n",
    "    print(f\"{number} is not a Strong number.\")\n"
   ]
  },
  {
   "cell_type": "code",
   "execution_count": null,
   "id": "27c44f3b",
   "metadata": {},
   "outputs": [],
   "source": [
    "i=1\n",
    "while(True):\n",
    "    print(i)\n",
    "    i=i+i\n",
    "    if i==20:\n",
    "        break"
   ]
  },
  {
   "cell_type": "code",
   "execution_count": null,
   "id": "ea1008eb",
   "metadata": {},
   "outputs": [],
   "source": [
    "Array"
   ]
  },
  {
   "cell_type": "code",
   "execution_count": null,
   "id": "faa8c42e",
   "metadata": {},
   "outputs": [],
   "source": [
    "x=[3,7,9,1]\n",
    "print(x)"
   ]
  },
  {
   "cell_type": "code",
   "execution_count": null,
   "id": "495458cd",
   "metadata": {},
   "outputs": [],
   "source": [
    "print(x[0:3])"
   ]
  },
  {
   "cell_type": "code",
   "execution_count": null,
   "id": "e2eb049b",
   "metadata": {},
   "outputs": [],
   "source": [
    "print(x[1:])"
   ]
  },
  {
   "cell_type": "code",
   "execution_count": null,
   "id": "f38d6ac3",
   "metadata": {},
   "outputs": [],
   "source": [
    "list - ordered, indexed, allowed duplicate element, changeable\n",
    "tuple - ordered, indexed, allowed duplicate element\n",
    "set - unordered, unindexed, changeable, notallowed duplicate element"
   ]
  },
  {
   "cell_type": "code",
   "execution_count": null,
   "id": "8ab7f41d",
   "metadata": {},
   "outputs": [],
   "source": [
    "a=[2,3,7,5]\n",
    "a.append(8)\n",
    "print(a)"
   ]
  },
  {
   "cell_type": "code",
   "execution_count": null,
   "id": "cab897aa",
   "metadata": {},
   "outputs": [],
   "source": [
    "a=(2,3,7,5)\n",
    "print(a)"
   ]
  },
  {
   "cell_type": "code",
   "execution_count": null,
   "id": "29010604",
   "metadata": {},
   "outputs": [],
   "source": [
    "a=(2,3,7,5)\n",
    "print(a[2])"
   ]
  },
  {
   "cell_type": "code",
   "execution_count": null,
   "id": "fe73e2a4",
   "metadata": {},
   "outputs": [],
   "source": [
    "s={2,3,7,5}\n",
    "print(s)"
   ]
  },
  {
   "cell_type": "code",
   "execution_count": null,
   "id": "1160eda3",
   "metadata": {},
   "outputs": [],
   "source": [
    "s.add(1)\n",
    "print(s)"
   ]
  },
  {
   "cell_type": "code",
   "execution_count": null,
   "id": "c7fbd5c5",
   "metadata": {},
   "outputs": [],
   "source": [
    "l=[2,2,3,4,4,5,7,7,1,8,8]"
   ]
  },
  {
   "cell_type": "code",
   "execution_count": null,
   "id": "3ca2c1fd",
   "metadata": {},
   "outputs": [],
   "source": [
    "l=[2,2,3,4,4,5,7,7,1,8,8]\n",
    "print(list(set(1)))"
   ]
  },
  {
   "cell_type": "code",
   "execution_count": null,
   "id": "41b0e8ca",
   "metadata": {},
   "outputs": [],
   "source": [
    "arr=[]\n",
    "size=int(input(\"enter the size of the array\"))\n",
    "for i in range(0,size):\n",
    "    ele=int(input())\n",
    "    arr.append(ele)\n",
    "print(\"your array is: \",arr)"
   ]
  },
  {
   "cell_type": "code",
   "execution_count": null,
   "id": "57d7fcb0",
   "metadata": {},
   "outputs": [],
   "source": [
    "for i in range(0,size):\n",
    "    print(arr[i],end=\" \")"
   ]
  },
  {
   "cell_type": "code",
   "execution_count": null,
   "id": "78158fa1",
   "metadata": {},
   "outputs": [],
   "source": [
    "arr=[]\n",
    "size=int(input(\"enter the size of the array\"))\n",
    "for i in range(0,size):\n",
    "    ele=int(input())\n",
    "    arr.append(ele)\n",
    "print(\"your array is: \",arr)\n",
    "sum=0\n",
    "for i in range(0,size):\n",
    "    sum=sum+arr[i]\n",
    "print(\"sum is: \",sum)"
   ]
  },
  {
   "cell_type": "code",
   "execution_count": null,
   "id": "e7c4df17",
   "metadata": {},
   "outputs": [],
   "source": [
    "9 7 3 1"
   ]
  },
  {
   "cell_type": "code",
   "execution_count": null,
   "id": "63c61150",
   "metadata": {},
   "outputs": [],
   "source": [
    "arr=[]\n",
    "size=int(input(\"enter the size of the array\"))\n",
    "for i in range(0,size):\n",
    "    ele=int(input())\n",
    "    arr.append(ele)\n",
    "print(\"your array is: \",arr)\n",
    "for i in range(0,size-1):\n",
    "    for j in range(0,size-1):\n",
    "        if arr[j]>arr[j+1]:\n",
    "            arr[j],arr[j+1]=arrr[j]"
   ]
  }
 ],
 "metadata": {
  "kernelspec": {
   "display_name": "Python 3 (ipykernel)",
   "language": "python",
   "name": "python3"
  },
  "language_info": {
   "codemirror_mode": {
    "name": "ipython",
    "version": 3
   },
   "file_extension": ".py",
   "mimetype": "text/x-python",
   "name": "python",
   "nbconvert_exporter": "python",
   "pygments_lexer": "ipython3",
   "version": "3.9.13"
  }
 },
 "nbformat": 4,
 "nbformat_minor": 5
}
