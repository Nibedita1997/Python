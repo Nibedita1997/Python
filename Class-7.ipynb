{
 "cells": [
  {
   "cell_type": "code",
   "execution_count": null,
   "id": "5ef64ecb",
   "metadata": {},
   "outputs": [],
   "source": [
    "145 = 1!+4!+5! = 145\n",
    "Strong number"
   ]
  },
  {
   "cell_type": "code",
   "execution_count": 1,
   "id": "cdc9ee23",
   "metadata": {},
   "outputs": [
    {
     "name": "stdout",
     "output_type": "stream",
     "text": [
      "Enter a number: 145\n",
      "145 is a Strong number.\n"
     ]
    }
   ],
   "source": [
    "def factorial(n):\n",
    "    if n == 0 or n == 1:\n",
    "        return 1\n",
    "    return n * factorial(n - 1)\n",
    "\n",
    "def is_strong_number(number):\n",
    "    num_str = str(number)\n",
    "    digit_sum = sum(factorial(int(digit)) for digit in num_str)\n",
    "    return digit_sum == number\n",
    "\n",
    "# Get input from the user\n",
    "number = int(input(\"Enter a number: \"))\n",
    "\n",
    "if is_strong_number(number):\n",
    "    print(f\"{number} is a Strong number.\")\n",
    "else:\n",
    "    print(f\"{number} is not a Strong number.\")\n"
   ]
  },
  {
   "cell_type": "code",
   "execution_count": 1,
   "id": "27c44f3b",
   "metadata": {},
   "outputs": [
    {
     "name": "stdout",
     "output_type": "stream",
     "text": [
      "1\n",
      "2\n",
      "3\n",
      "4\n",
      "5\n",
      "6\n",
      "7\n",
      "8\n",
      "9\n",
      "10\n",
      "11\n",
      "12\n",
      "13\n",
      "14\n",
      "15\n",
      "16\n",
      "17\n",
      "18\n",
      "19\n",
      "20\n"
     ]
    }
   ],
   "source": [
    "i = 1\n",
    "while i <= 20:\n",
    "    print(i)\n",
    "    i = i + 1"
   ]
  },
  {
   "cell_type": "code",
   "execution_count": null,
   "id": "ea1008eb",
   "metadata": {},
   "outputs": [],
   "source": [
    "Array"
   ]
  },
  {
   "cell_type": "code",
   "execution_count": 2,
   "id": "faa8c42e",
   "metadata": {},
   "outputs": [
    {
     "name": "stdout",
     "output_type": "stream",
     "text": [
      "[3, 7, 9, 1]\n"
     ]
    }
   ],
   "source": [
    "x=[3,7,9,1]\n",
    "print(x)"
   ]
  },
  {
   "cell_type": "code",
   "execution_count": 3,
   "id": "495458cd",
   "metadata": {},
   "outputs": [
    {
     "name": "stdout",
     "output_type": "stream",
     "text": [
      "[3, 7, 9]\n"
     ]
    }
   ],
   "source": [
    "print(x[0:3])"
   ]
  },
  {
   "cell_type": "code",
   "execution_count": 4,
   "id": "e2eb049b",
   "metadata": {},
   "outputs": [
    {
     "name": "stdout",
     "output_type": "stream",
     "text": [
      "[7, 9, 1]\n"
     ]
    }
   ],
   "source": [
    "print(x[1:])"
   ]
  },
  {
   "cell_type": "code",
   "execution_count": null,
   "id": "f38d6ac3",
   "metadata": {},
   "outputs": [],
   "source": [
    "list - ordered, indexed, allowed duplicate element, changeable\n",
    "tuple - ordered, indexed, allowed duplicate element\n",
    "set - unordered, unindexed, changeable, notallowed duplicate element"
   ]
  },
  {
   "cell_type": "code",
   "execution_count": 5,
   "id": "8ab7f41d",
   "metadata": {},
   "outputs": [
    {
     "name": "stdout",
     "output_type": "stream",
     "text": [
      "[2, 3, 7, 5, 8]\n"
     ]
    }
   ],
   "source": [
    "a=[2,3,7,5]\n",
    "a.append(8)\n",
    "print(a)"
   ]
  },
  {
   "cell_type": "code",
   "execution_count": 6,
   "id": "cab897aa",
   "metadata": {},
   "outputs": [
    {
     "name": "stdout",
     "output_type": "stream",
     "text": [
      "(2, 3, 7, 5)\n"
     ]
    }
   ],
   "source": [
    "a=(2,3,7,5)\n",
    "print(a)"
   ]
  },
  {
   "cell_type": "code",
   "execution_count": 7,
   "id": "29010604",
   "metadata": {},
   "outputs": [
    {
     "name": "stdout",
     "output_type": "stream",
     "text": [
      "7\n"
     ]
    }
   ],
   "source": [
    "a=(2,3,7,5)\n",
    "print(a[2])"
   ]
  },
  {
   "cell_type": "code",
   "execution_count": 8,
   "id": "fe73e2a4",
   "metadata": {},
   "outputs": [
    {
     "name": "stdout",
     "output_type": "stream",
     "text": [
      "{2, 3, 5, 7}\n"
     ]
    }
   ],
   "source": [
    "s={2,3,7,5}\n",
    "print(s)"
   ]
  },
  {
   "cell_type": "code",
   "execution_count": 9,
   "id": "1160eda3",
   "metadata": {},
   "outputs": [
    {
     "name": "stdout",
     "output_type": "stream",
     "text": [
      "{1, 2, 3, 5, 7}\n"
     ]
    }
   ],
   "source": [
    "s.add(1)\n",
    "print(s)"
   ]
  },
  {
   "cell_type": "code",
   "execution_count": null,
   "id": "c7fbd5c5",
   "metadata": {},
   "outputs": [],
   "source": [
    "l=[2,2,3,4,4,5,7,7,1,8,8]"
   ]
  },
  {
   "cell_type": "code",
   "execution_count": 10,
   "id": "3ca2c1fd",
   "metadata": {},
   "outputs": [
    {
     "name": "stdout",
     "output_type": "stream",
     "text": [
      "[1, 2, 3, 4, 5, 7, 8]\n"
     ]
    }
   ],
   "source": [
    "l = [2, 2, 3, 4, 4, 5, 7, 7, 1, 8, 8]\n",
    "print(list(set(l)))"
   ]
  },
  {
   "cell_type": "code",
   "execution_count": 11,
   "id": "41b0e8ca",
   "metadata": {},
   "outputs": [
    {
     "name": "stdout",
     "output_type": "stream",
     "text": [
      "enter the size of the array5\n",
      "4\n",
      "3\n",
      "2\n",
      "1\n",
      "9\n",
      "your array is:  [4, 3, 2, 1, 9]\n"
     ]
    }
   ],
   "source": [
    "arr=[]\n",
    "size=int(input(\"enter the size of the array\"))\n",
    "for i in range(0,size):\n",
    "    ele=int(input())\n",
    "    arr.append(ele)\n",
    "print(\"your array is: \",arr)"
   ]
  },
  {
   "cell_type": "code",
   "execution_count": 12,
   "id": "57d7fcb0",
   "metadata": {},
   "outputs": [
    {
     "name": "stdout",
     "output_type": "stream",
     "text": [
      "4 3 2 1 9 "
     ]
    }
   ],
   "source": [
    "for i in range(0,size):\n",
    "    print(arr[i],end=\" \")"
   ]
  },
  {
   "cell_type": "code",
   "execution_count": 13,
   "id": "78158fa1",
   "metadata": {},
   "outputs": [
    {
     "name": "stdout",
     "output_type": "stream",
     "text": [
      "enter the size of the array9\n",
      "8\n",
      "7\n",
      "6\n",
      "5\n",
      "4\n",
      "6\n",
      "1\n",
      "3\n",
      "2\n",
      "your array is:  [8, 7, 6, 5, 4, 6, 1, 3, 2]\n",
      "sum is:  42\n"
     ]
    }
   ],
   "source": [
    "arr=[]\n",
    "size=int(input(\"enter the size of the array\"))\n",
    "for i in range(0,size):\n",
    "    ele=int(input())\n",
    "    arr.append(ele)\n",
    "print(\"your array is: \",arr)\n",
    "sum=0\n",
    "for i in range(0,size):\n",
    "    sum=sum+arr[i]\n",
    "print(\"sum is: \",sum)"
   ]
  },
  {
   "cell_type": "code",
   "execution_count": null,
   "id": "dc3c25d9",
   "metadata": {},
   "outputs": [],
   "source": [
    "9 7 3 1"
   ]
  },
  {
   "cell_type": "code",
   "execution_count": 16,
   "id": "90075852",
   "metadata": {},
   "outputs": [
    {
     "name": "stdout",
     "output_type": "stream",
     "text": [
      "Enter the size of the array: 9\n",
      "2\n",
      "3\n",
      "4\n",
      "5\n",
      "6\n",
      "7\n",
      "1\n",
      "8\n",
      "21\n",
      "Your array is: [2, 3, 4, 5, 6, 7, 1, 8, 21]\n",
      "Your sorted array is: [1, 2, 3, 4, 5, 6, 7, 8, 21]\n"
     ]
    }
   ],
   "source": [
    "arr = []\n",
    "size = int(input(\"Enter the size of the array: \"))\n",
    "\n",
    "for i in range(0, size):\n",
    "    ele = int(input())\n",
    "    arr.append(ele)\n",
    "\n",
    "print(\"Your array is:\", arr)\n",
    "\n",
    "for i in range(0, size - 1):\n",
    "    for j in range(0, size - 1):\n",
    "        if arr[j] > arr[j+1]:\n",
    "            arr[j], arr[j+1] = arr[j+1], arr[j]\n",
    "\n",
    "print(\"Your sorted array is:\", arr)"
   ]
  }
 ],
 "metadata": {
  "kernelspec": {
   "display_name": "Python 3 (ipykernel)",
   "language": "python",
   "name": "python3"
  },
  "language_info": {
   "codemirror_mode": {
    "name": "ipython",
    "version": 3
   },
   "file_extension": ".py",
   "mimetype": "text/x-python",
   "name": "python",
   "nbconvert_exporter": "python",
   "pygments_lexer": "ipython3",
   "version": "3.9.13"
  }
 },
 "nbformat": 4,
 "nbformat_minor": 5
}
