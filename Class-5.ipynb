{
 "cells": [
  {
   "cell_type": "code",
   "execution_count": null,
   "id": "05082d32",
   "metadata": {},
   "outputs": [],
   "source": [
    "5\n",
    "5!=5*4*\n",
    "find factorial of a user given number"
   ]
  },
  {
   "cell_type": "code",
   "execution_count": 2,
   "id": "ae40114c",
   "metadata": {},
   "outputs": [
    {
     "name": "stdout",
     "output_type": "stream",
     "text": [
      "enter a value: 5\n",
      "5 ! = 120\n"
     ]
    }
   ],
   "source": [
    "x = int(input(\"enter a value: \"))\n",
    "fact = 1\n",
    "\n",
    "for i in range(1, x + 1):\n",
    "    fact = fact * i  # Update the factorial calculation here\n",
    "\n",
    "print(x, \"! =\", fact)"
   ]
  },
  {
   "cell_type": "code",
   "execution_count": 3,
   "id": "cb5c8dca",
   "metadata": {},
   "outputs": [
    {
     "name": "stdout",
     "output_type": "stream",
     "text": [
      "enter a value: 5\n",
      "5 is a prime number\n"
     ]
    }
   ],
   "source": [
    "x=int(input(\"enter a value: \"))\n",
    "flag=0\n",
    "for i in range(2,x):\n",
    "    if x%i==0:\n",
    "        flag=1\n",
    "if flag==0:\n",
    "    print(x,\"is a prime number\")\n",
    "else:\n",
    "    print(x,\"is not a prime number\")"
   ]
  },
  {
   "cell_type": "code",
   "execution_count": null,
   "id": "d305613f",
   "metadata": {},
   "outputs": [],
   "source": [
    "*\n",
    "**\n",
    "***\n",
    "****\n",
    "*****\n",
    "\n",
    "for i=1 i=2 i=3 i=4 i=5\n",
    "for j=1 j=1,2 j=1,2,3 j=1,2,3,4 j=1,2,3,4,5"
   ]
  },
  {
   "cell_type": "code",
   "execution_count": 4,
   "id": "c4f21bea",
   "metadata": {},
   "outputs": [
    {
     "name": "stdout",
     "output_type": "stream",
     "text": [
      "*\n",
      "**\n",
      "***\n",
      "****\n",
      "*****\n"
     ]
    }
   ],
   "source": [
    "for i in range(1,6):\n",
    "    for j in range(1,i+1):\n",
    "        print(\"*\",end=\"\")\n",
    "    print()"
   ]
  },
  {
   "cell_type": "code",
   "execution_count": null,
   "id": "25fc23ca",
   "metadata": {},
   "outputs": [],
   "source": [
    "*****\n",
    "****\n",
    "***\n",
    "**\n",
    "*"
   ]
  },
  {
   "cell_type": "code",
   "execution_count": 10,
   "id": "29de086b",
   "metadata": {},
   "outputs": [
    {
     "name": "stdout",
     "output_type": "stream",
     "text": [
      "*****\n",
      "****\n",
      "***\n",
      "**\n",
      "*\n"
     ]
    }
   ],
   "source": [
    "for i in range(5,0,-1):\n",
    "    for j in range(1,i+1):\n",
    "        print(\"*\",end=\"\")\n",
    "    print()"
   ]
  },
  {
   "cell_type": "code",
   "execution_count": null,
   "id": "212c7d79",
   "metadata": {},
   "outputs": [],
   "source": [
    "1\n",
    "12\n",
    "123\n",
    "1234\n",
    "12345"
   ]
  },
  {
   "cell_type": "code",
   "execution_count": 11,
   "id": "d7980c2f",
   "metadata": {},
   "outputs": [
    {
     "name": "stdout",
     "output_type": "stream",
     "text": [
      "1\n",
      "12\n",
      "123\n",
      "1234\n",
      "12345\n"
     ]
    }
   ],
   "source": [
    "for i in range(1,6): #1,2,3,4,5\n",
    "    for j in range(1,i+1):\n",
    "        print(j,end=\"\")\n",
    "    print()"
   ]
  },
  {
   "cell_type": "code",
   "execution_count": null,
   "id": "4f869967",
   "metadata": {},
   "outputs": [],
   "source": [
    "54321\n",
    "5432\n",
    "543\n",
    "54\n",
    "5"
   ]
  },
  {
   "cell_type": "code",
   "execution_count": 13,
   "id": "1e6dc1a2",
   "metadata": {},
   "outputs": [
    {
     "name": "stdout",
     "output_type": "stream",
     "text": [
      "54321\n",
      "5432\n",
      "543\n",
      "54\n",
      "5\n"
     ]
    }
   ],
   "source": [
    "for i in range(1,6): #1,2,3,4,5\n",
    "    for j in range(5,i-1,-1):\n",
    "        print(j,end=\"\")\n",
    "    print()"
   ]
  },
  {
   "cell_type": "code",
   "execution_count": null,
   "id": "52086234",
   "metadata": {},
   "outputs": [],
   "source": [
    "1\n",
    "2 3\n",
    "4 5 6\n",
    "7 8 9 10\n",
    "11 12 13 14 15"
   ]
  },
  {
   "cell_type": "code",
   "execution_count": 14,
   "id": "dea6388b",
   "metadata": {},
   "outputs": [
    {
     "name": "stdout",
     "output_type": "stream",
     "text": [
      "1 \n",
      "2 3 \n",
      "4 5 6 \n",
      "7 8 9 10 \n",
      "11 12 13 14 15 \n"
     ]
    }
   ],
   "source": [
    "x=1\n",
    "for i in range(1,6): #1,2,3,4,5\n",
    "    for j in range(1,i+1):\n",
    "        print(x,end=\" \")\n",
    "        x=x+1\n",
    "    print()"
   ]
  },
  {
   "cell_type": "code",
   "execution_count": null,
   "id": "584ffbf9",
   "metadata": {},
   "outputs": [],
   "source": [
    "    *\n",
    "   * *\n",
    "  * * *\n",
    " * * * *\n",
    "* * * * * "
   ]
  },
  {
   "cell_type": "code",
   "execution_count": 16,
   "id": "4994911e",
   "metadata": {},
   "outputs": [
    {
     "name": "stdout",
     "output_type": "stream",
     "text": [
      "    * \n",
      "   * * \n",
      "  * * * \n",
      " * * * * \n",
      "* * * * * \n"
     ]
    }
   ],
   "source": [
    "for i in range(1, 6):  # 1, 2, 3, 4, 5\n",
    "    for j in range(5, i, -1):\n",
    "        print(\" \", end=\"\")  # Print spaces\n",
    "    for k in range(0, i):\n",
    "        print(\"* \", end=\"\")  # Print asterisk and space\n",
    "    print()"
   ]
  },
  {
   "cell_type": "code",
   "execution_count": null,
   "id": "181911ab",
   "metadata": {},
   "outputs": [],
   "source": [
    "* * * * *\n",
    " * * * *\n",
    "  * * *\n",
    "   * *\n",
    "    *"
   ]
  },
  {
   "cell_type": "code",
   "execution_count": 17,
   "id": "9daea6e2",
   "metadata": {},
   "outputs": [
    {
     "name": "stdout",
     "output_type": "stream",
     "text": [
      "* * * * * \n",
      " * * * * \n",
      "  * * * \n",
      "   * * \n",
      "    * \n"
     ]
    }
   ],
   "source": [
    "for i in range(5, 0, -1):  # 5, 4, 3, 2, 1\n",
    "    for j in range(5, i, -1):\n",
    "        print(\" \", end=\"\")  # Print spaces\n",
    "    for k in range(0, i):\n",
    "        print(\"* \", end=\"\")  # Print asterisk and space\n",
    "    print()"
   ]
  },
  {
   "cell_type": "code",
   "execution_count": null,
   "id": "efffb506",
   "metadata": {},
   "outputs": [],
   "source": [
    "    *\n",
    "   * *\n",
    "  * * *\n",
    " * * * *\n",
    "* * * * * \n",
    "* * * * *\n",
    " * * * *\n",
    "  * * *\n",
    "   * *\n",
    "    *"
   ]
  },
  {
   "cell_type": "code",
   "execution_count": 18,
   "id": "f500ccbd",
   "metadata": {},
   "outputs": [
    {
     "name": "stdout",
     "output_type": "stream",
     "text": [
      "    * \n",
      "   * * \n",
      "  * * * \n",
      " * * * * \n",
      "* * * * * \n",
      " * * * * \n",
      "  * * * \n",
      "   * * \n",
      "    * \n"
     ]
    }
   ],
   "source": [
    "for i in range(1, 6):  # 1, 2, 3, 4, 5\n",
    "    for j in range(5, i, -1):\n",
    "        print(\" \", end=\"\")  # Print spaces\n",
    "    for k in range(0, i):\n",
    "        print(\"* \", end=\"\")  # Print asterisk and space\n",
    "    print()\n",
    "\n",
    "for i in range(4, 0, -1):  # 4, 3, 2, 1\n",
    "    for j in range(0, 5 - i):\n",
    "        print(\" \", end=\"\")  # Print spaces\n",
    "    for k in range(0, i):\n",
    "        print(\"* \", end=\"\")  # Print asterisk and space\n",
    "    print()"
   ]
  },
  {
   "cell_type": "code",
   "execution_count": null,
   "id": "a4c1de96",
   "metadata": {},
   "outputs": [],
   "source": [
    "* * * * *\n",
    " * * * *\n",
    "  * * *\n",
    "   * *\n",
    "    *\n",
    "    *\n",
    "   * *\n",
    "  * * *\n",
    " * * * *\n",
    "* * * * * "
   ]
  },
  {
   "cell_type": "code",
   "execution_count": 19,
   "id": "b60165ac",
   "metadata": {},
   "outputs": [
    {
     "name": "stdout",
     "output_type": "stream",
     "text": [
      "* * * * * \n",
      " * * * * \n",
      "  * * * \n",
      "   * * \n",
      "    * \n",
      "    * \n",
      "   * * \n",
      "  * * * \n",
      " * * * * \n",
      "* * * * * \n"
     ]
    }
   ],
   "source": [
    "for i in range(5, 0, -1):  # 5, 4, 3, 2, 1\n",
    "    for j in range(0, 5 - i):\n",
    "        print(\" \", end=\"\")  # Print spaces\n",
    "    for k in range(0, i):\n",
    "        print(\"* \", end=\"\")  # Print asterisk and space\n",
    "    print()\n",
    "\n",
    "for i in range(1, 6):  # 1, 2, 3, 4, 5\n",
    "    for j in range(5, i, -1):\n",
    "        print(\" \", end=\"\")  # Print spaces\n",
    "    for k in range(0, i):\n",
    "        print(\"* \", end=\"\")  # Print asterisk and space\n",
    "    print()"
   ]
  }
 ],
 "metadata": {
  "kernelspec": {
   "display_name": "Python 3 (ipykernel)",
   "language": "python",
   "name": "python3"
  },
  "language_info": {
   "codemirror_mode": {
    "name": "ipython",
    "version": 3
   },
   "file_extension": ".py",
   "mimetype": "text/x-python",
   "name": "python",
   "nbconvert_exporter": "python",
   "pygments_lexer": "ipython3",
   "version": "3.9.13"
  }
 },
 "nbformat": 4,
 "nbformat_minor": 5
}
