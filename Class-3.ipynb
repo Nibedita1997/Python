{
 "cells": [
  {
   "cell_type": "code",
   "execution_count": null,
   "id": "98bed437",
   "metadata": {},
   "outputs": [],
   "source": [
    "Ask from usear celcius value and print farenhite value\n",
    "c/5=f-32/9\n",
    "farenhaite celcius"
   ]
  },
  {
   "cell_type": "code",
   "execution_count": 1,
   "id": "9921e48b",
   "metadata": {},
   "outputs": [
    {
     "name": "stdout",
     "output_type": "stream",
     "text": [
      "enter celcius value: 50\n",
      "farenhite value is:  122.0\n"
     ]
    }
   ],
   "source": [
    "c = int(input(\"enter celcius value: \"))\n",
    "f = (((9*c)/5)+32)\n",
    "print(\"farenhite value is: \",f)"
   ]
  },
  {
   "cell_type": "code",
   "execution_count": 2,
   "id": "99b57cee",
   "metadata": {},
   "outputs": [
    {
     "name": "stdout",
     "output_type": "stream",
     "text": [
      "enter farenhite value: 50\n",
      "celcius value is:  10.0\n"
     ]
    }
   ],
   "source": [
    "f = int(input(\"enter farenhite value: \"))\n",
    "c = (((f-32)*5)/9)\n",
    "print(\"celcius value is: \",c)"
   ]
  },
  {
   "cell_type": "code",
   "execution_count": null,
   "id": "66541b89",
   "metadata": {},
   "outputs": [],
   "source": [
    "Conditions"
   ]
  },
  {
   "cell_type": "code",
   "execution_count": 3,
   "id": "75b6c107",
   "metadata": {},
   "outputs": [
    {
     "name": "stdout",
     "output_type": "stream",
     "text": [
      "enter a number: 5\n",
      "5 is a greater than 3\n"
     ]
    }
   ],
   "source": [
    "x = int(input(\"enter a number: \")) #5\n",
    "if x>3:\n",
    "    print(x,\"is a greater than 3\")\n",
    "else:\n",
    "    print(x,\"is not greater than 3\")"
   ]
  },
  {
   "cell_type": "code",
   "execution_count": null,
   "id": "be8b902c",
   "metadata": {},
   "outputs": [],
   "source": [
    "check a user given number is positive or negetive"
   ]
  },
  {
   "cell_type": "code",
   "execution_count": 5,
   "id": "fcbfc5d3",
   "metadata": {},
   "outputs": [
    {
     "name": "stdout",
     "output_type": "stream",
     "text": [
      "enter a number: -9\n",
      "-9 is negetive number\n"
     ]
    }
   ],
   "source": [
    "x = int(input(\"enter a number: \")) #5\n",
    "if x>0:\n",
    "    print(x,\"is positive number\")\n",
    "else:\n",
    "    print(x,\"is negetive number\")"
   ]
  },
  {
   "cell_type": "code",
   "execution_count": null,
   "id": "482c59c7",
   "metadata": {},
   "outputs": [],
   "source": [
    "check a user given number is odd or even"
   ]
  },
  {
   "cell_type": "code",
   "execution_count": 6,
   "id": "17f95329",
   "metadata": {},
   "outputs": [
    {
     "name": "stdout",
     "output_type": "stream",
     "text": [
      "enter a number5\n",
      "5 is odd number\n"
     ]
    }
   ],
   "source": [
    "x = int(input(\"enter a number\"))\n",
    "if x%2==0:\n",
    "    print(x,\"is even number\")\n",
    "else:\n",
    "    print(x,\"is odd number\")"
   ]
  },
  {
   "cell_type": "code",
   "execution_count": null,
   "id": "601d3d06",
   "metadata": {},
   "outputs": [],
   "source": [
    "A company provides 5% bonus to those empolyees whose service year is more than 5 years. ask user for his salary and services year and display how much he gets"
   ]
  },
  {
   "cell_type": "code",
   "execution_count": 9,
   "id": "6b48b2d2",
   "metadata": {},
   "outputs": [
    {
     "name": "stdout",
     "output_type": "stream",
     "text": [
      "enter your salary: 18000\n",
      "enter your service year: 2\n",
      "yoursalary is :  18000\n"
     ]
    }
   ],
   "source": [
    "sal = int(input(\"enter your salary: \"))\n",
    "y = int(input(\"enter your service year: \"))\n",
    "if y>=5:\n",
    "    bonus=(sal*5)/100\n",
    "    sal=sal+bonus\n",
    "    print(\"your salary is: \",sal)\n",
    "else:\n",
    "    print(\"yoursalary is : \",sal)"
   ]
  },
  {
   "cell_type": "code",
   "execution_count": null,
   "id": "8afebb88",
   "metadata": {},
   "outputs": [],
   "source": [
    "5,555"
   ]
  },
  {
   "cell_type": "code",
   "execution_count": 10,
   "id": "59dee812",
   "metadata": {},
   "outputs": [
    {
     "name": "stdout",
     "output_type": "stream",
     "text": [
      "enter a number 1-9: 9\n",
      "999\n"
     ]
    }
   ],
   "source": [
    "x=int(input(\"enter a number 1-9: \"))\n",
    "y=x*111\n",
    "print(y)"
   ]
  },
  {
   "cell_type": "code",
   "execution_count": null,
   "id": "977179db",
   "metadata": {},
   "outputs": [],
   "source": [
    "Logical Operator"
   ]
  },
  {
   "cell_type": "code",
   "execution_count": null,
   "id": "b7781b4b",
   "metadata": {},
   "outputs": [],
   "source": [
    "check a number is positive even, positive odd, negetive even or negetive odd"
   ]
  },
  {
   "cell_type": "code",
   "execution_count": 13,
   "id": "49908793",
   "metadata": {},
   "outputs": [
    {
     "name": "stdout",
     "output_type": "stream",
     "text": [
      "enter a numbe: 5\n",
      "5 is a positive odd number \n"
     ]
    }
   ],
   "source": [
    "x = int(input(\"enter a numbe: \")) #5\n",
    "if x==0:\n",
    "    print(\"it is a zero\")\n",
    "elif x>0 and x%2==0:\n",
    "    print(x,\"is a positive even number\")\n",
    "elif x>0 and x%2!=0:\n",
    "    print(x,\"is a positive odd number \")\n",
    "elif x<0 and x%2==0:\n",
    "    print(x,\"is a negetive even number \")\n",
    "elif x<0 and X%2!=0:\n",
    "    print(x,\"is a negetive odd number \")\n",
    "else:\n",
    "    print(\"wrong input\")"
   ]
  }
 ],
 "metadata": {
  "kernelspec": {
   "display_name": "Python 3 (ipykernel)",
   "language": "python",
   "name": "python3"
  },
  "language_info": {
   "codemirror_mode": {
    "name": "ipython",
    "version": 3
   },
   "file_extension": ".py",
   "mimetype": "text/x-python",
   "name": "python",
   "nbconvert_exporter": "python",
   "pygments_lexer": "ipython3",
   "version": "3.9.13"
  }
 },
 "nbformat": 4,
 "nbformat_minor": 5
}
