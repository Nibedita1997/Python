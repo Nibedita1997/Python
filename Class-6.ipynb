{
 "cells": [
  {
   "cell_type": "code",
   "execution_count": 1,
   "id": "5d928d9e",
   "metadata": {},
   "outputs": [
    {
     "name": "stdout",
     "output_type": "stream",
     "text": [
      "1\n",
      "2\n",
      "3\n",
      "4\n",
      "5\n"
     ]
    }
   ],
   "source": [
    "i=1\n",
    "while(i<=5):\n",
    "    print(i)\n",
    "    i=i+1"
   ]
  },
  {
   "cell_type": "code",
   "execution_count": 4,
   "id": "6552f664",
   "metadata": {},
   "outputs": [
    {
     "name": "stdout",
     "output_type": "stream",
     "text": [
      "5\n",
      "4\n",
      "3\n",
      "2\n",
      "1\n"
     ]
    }
   ],
   "source": [
    "i = 5\n",
    "while i >= 1:\n",
    "    print(i)\n",
    "    i = i - 1"
   ]
  },
  {
   "cell_type": "code",
   "execution_count": null,
   "id": "39a4cc1a",
   "metadata": {},
   "outputs": [],
   "source": [
    "1 2 3"
   ]
  },
  {
   "cell_type": "code",
   "execution_count": 5,
   "id": "5025ca75",
   "metadata": {},
   "outputs": [
    {
     "name": "stdout",
     "output_type": "stream",
     "text": [
      "1 2 3 "
     ]
    }
   ],
   "source": [
    "for i in range(1, 4):  # 1, 2, 3\n",
    "    print(i, end=\" \")\n"
   ]
  },
  {
   "cell_type": "code",
   "execution_count": 6,
   "id": "4c983661",
   "metadata": {},
   "outputs": [
    {
     "name": "stdout",
     "output_type": "stream",
     "text": [
      "enter a number: 123\n",
      "3\n"
     ]
    }
   ],
   "source": [
    "x=int(input(\"enter a number: \")) #123, 12, 1\n",
    "count=0\n",
    "while(x>0):\n",
    "    count=count+1 #1, 2, 3\n",
    "    x=x//10 #12, 1, 0\n",
    "print(count)"
   ]
  },
  {
   "cell_type": "code",
   "execution_count": null,
   "id": "05d5421d",
   "metadata": {},
   "outputs": [],
   "source": [
    "5\n",
    "5! = 5*4*3*2*1 = 120"
   ]
  },
  {
   "cell_type": "code",
   "execution_count": 8,
   "id": "327088b4",
   "metadata": {},
   "outputs": [
    {
     "name": "stdout",
     "output_type": "stream",
     "text": [
      "enter a number: 5\n",
      "5\n",
      "5! = 1 * 2 * 3 * 4 * 5 = 120\n"
     ]
    }
   ],
   "source": [
    "n = int(input(\"enter a number: \"))\n",
    "factorial = 1\n",
    "\n",
    "print(n)\n",
    "print(f\"{n}! =\", end=\" \")\n",
    "\n",
    "for i in range(1, n + 1):\n",
    "    factorial *= i\n",
    "    if i == n:\n",
    "        print(f\"{i}\", end=\" = \")\n",
    "    else:\n",
    "        print(f\"{i} *\", end=\" \")\n",
    "\n",
    "print(factorial)"
   ]
  },
  {
   "cell_type": "code",
   "execution_count": null,
   "id": "0c282526",
   "metadata": {},
   "outputs": [],
   "source": [
    "123 = 1+2+3 = 6"
   ]
  },
  {
   "cell_type": "code",
   "execution_count": 9,
   "id": "1012fc47",
   "metadata": {},
   "outputs": [
    {
     "name": "stdout",
     "output_type": "stream",
     "text": [
      "1 2 3 = 1 + 2 + 3 = 6\n"
     ]
    }
   ],
   "source": [
    "numbers = [1, 2, 3]\n",
    "sum_numbers = sum(numbers)\n",
    "\n",
    "print(\" \".join(map(str, numbers)), \"=\", \" + \".join(map(str, numbers)), \"=\", sum_numbers)"
   ]
  },
  {
   "cell_type": "code",
   "execution_count": 11,
   "id": "7949195c",
   "metadata": {},
   "outputs": [
    {
     "name": "stdout",
     "output_type": "stream",
     "text": [
      "enter a number: 564\n",
      "15\n"
     ]
    }
   ],
   "source": [
    "x=int(input(\"enter a number: \")) #123, 12\n",
    "sum=0\n",
    "while(x>0):\n",
    "    rem=x%10 #3,2,1\n",
    "    sum=sum+rem #3,5,6\n",
    "    x=x//10 #12,1,0\n",
    "print(sum)"
   ]
  },
  {
   "cell_type": "code",
   "execution_count": null,
   "id": "c628928b",
   "metadata": {},
   "outputs": [],
   "source": [
    "check a number is harshad number or not"
   ]
  },
  {
   "cell_type": "code",
   "execution_count": 22,
   "id": "4ac5bb2a",
   "metadata": {},
   "outputs": [
    {
     "name": "stdout",
     "output_type": "stream",
     "text": [
      "enter a number: 24\n",
      "24 is a harshad number\n"
     ]
    }
   ],
   "source": [
    "x=int(input(\"enter a number: \")) #123, 12\n",
    "temp=x\n",
    "sum=0\n",
    "while(x>0):\n",
    "    rem=x%10 #3,2,1\n",
    "    sum=sum+rem #3,5,6\n",
    "    x=x//10 #12,1,0\n",
    "if x%sum==0:\n",
    "    print(temp,\"is a harshad number\")\n",
    "else:\n",
    "    print(temp,\"is not a harshad number\")"
   ]
  },
  {
   "cell_type": "code",
   "execution_count": null,
   "id": "20cff37a",
   "metadata": {},
   "outputs": [],
   "source": [
    "check a number is perfect number or not\n",
    "6 = 1,2,3,4,6 = 1+2+3 = 6"
   ]
  },
  {
   "cell_type": "code",
   "execution_count": 26,
   "id": "3e5614bf",
   "metadata": {},
   "outputs": [
    {
     "name": "stdout",
     "output_type": "stream",
     "text": [
      "Enter a number: 6\n",
      "Perfect\n"
     ]
    }
   ],
   "source": [
    "x = int(input(\"Enter a number: \"))\n",
    "sum = 0\n",
    "i = 1\n",
    "\n",
    "while i < x:\n",
    "    if x % i == 0:\n",
    "        sum = sum + i\n",
    "    i = i + 1  # Increment should be inside the if condition\n",
    "\n",
    "if sum == x:\n",
    "    print(\"Perfect\")\n",
    "else:\n",
    "    print(\"Not perfect\")"
   ]
  },
  {
   "cell_type": "code",
   "execution_count": null,
   "id": "66ec3eeb",
   "metadata": {},
   "outputs": [],
   "source": [
    "armstrong number\n",
    "371 = 3**3 + 7**3 + 1**3 = 371"
   ]
  },
  {
   "cell_type": "code",
   "execution_count": 29,
   "id": "0df3eebb",
   "metadata": {},
   "outputs": [
    {
     "name": "stdout",
     "output_type": "stream",
     "text": [
      "enter a number: 371\n",
      "371 is not armstrong number\n"
     ]
    }
   ],
   "source": [
    "x=int(input(\"enter a number: \")) #371\n",
    "sum=0\n",
    "count=0\n",
    "temp=0\n",
    "temp1=0\n",
    "while(temp>0):\n",
    "    count=count+1\n",
    "    temp=temp//10\n",
    "while(temp>0):\n",
    "    rem=temp1%10 #1\n",
    "    sum=sum+(rem**count)\n",
    "    temp1=temp1//10\n",
    "if x==sum:\n",
    "    print(x,\"is armstrong number\")\n",
    "else:\n",
    "    print(x,\"is not armstrong number\")"
   ]
  }
 ],
 "metadata": {
  "kernelspec": {
   "display_name": "Python 3 (ipykernel)",
   "language": "python",
   "name": "python3"
  },
  "language_info": {
   "codemirror_mode": {
    "name": "ipython",
    "version": 3
   },
   "file_extension": ".py",
   "mimetype": "text/x-python",
   "name": "python",
   "nbconvert_exporter": "python",
   "pygments_lexer": "ipython3",
   "version": "3.9.13"
  }
 },
 "nbformat": 4,
 "nbformat_minor": 5
}
